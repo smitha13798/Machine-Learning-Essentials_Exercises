{
  "cells": [
    {
      "cell_type": "markdown",
      "id": "7c36cb6a-4b5b-45db-b394-ef1d03627dd5",
      "metadata": {
        "id": "7c36cb6a-4b5b-45db-b394-ef1d03627dd5"
      },
      "source": [
        "# Machine Learning Essentials - Summer Semester 2024 // Exercise 06"
      ]
    },
    {
      "cell_type": "markdown",
      "id": "24f34ba2-b186-4ad8-b987-a81d3bcca265",
      "metadata": {
        "id": "24f34ba2-b186-4ad8-b987-a81d3bcca265"
      },
      "source": [
        "## Team-Member\n",
        "### 1. Sushmitha Chandrakumar - 4732591\n",
        "### 2. Aarohi Verma - 4742978\n",
        "### 3. Colin Fredynand - 4730221"
      ]
    },
    {
      "cell_type": "markdown",
      "id": "25a815a2-a482-4582-ba13-0337877b6d2a",
      "metadata": {
        "id": "25a815a2-a482-4582-ba13-0337877b6d2a"
      },
      "source": [
        "## Task 1"
      ]
    },
    {
      "cell_type": "markdown",
      "id": "04510b0d-e11d-4697-ba8e-192bd4295d93",
      "metadata": {
        "id": "04510b0d-e11d-4697-ba8e-192bd4295d93"
      },
      "source": [
        "# Import Libraries"
      ]
    },
    {
      "cell_type": "code",
      "execution_count": 1,
      "id": "d83af356-2b83-4ed9-848b-385e20904727",
      "metadata": {
        "id": "d83af356-2b83-4ed9-848b-385e20904727"
      },
      "outputs": [],
      "source": [
        "import numpy as np\n",
        "from sklearn.datasets import load_digits\n",
        "from sklearn.model_selection import cross_val_score, KFold\n",
        "from sklearn.base import BaseEstimator, ClassifierMixin, RegressorMixin\n",
        "from collections import Counter\n",
        "from abc import ABC, abstractmethod"
      ]
    },
    {
      "cell_type": "markdown",
      "id": "67a071dd-ad69-4d30-8b10-a5f84a498c05",
      "metadata": {
        "id": "67a071dd-ad69-4d30-8b10-a5f84a498c05"
      },
      "source": [
        "# Base Classes"
      ]
    },
    {
      "cell_type": "code",
      "execution_count": 2,
      "id": "74bec24f-aa82-4d9c-89cb-78a01e42e914",
      "metadata": {
        "id": "74bec24f-aa82-4d9c-89cb-78a01e42e914"
      },
      "outputs": [],
      "source": [
        "class Node:\n",
        "    '''\n",
        "      this class will later get the following attributes\n",
        "      all nodes:\n",
        "          features\n",
        "          responses\n",
        "      split nodes additionally:\n",
        "          left\n",
        "          right\n",
        "          split_index\n",
        "          threshold\n",
        "      leaf nodes additionally:\n",
        "          prediction\n",
        "    '''\n",
        "    pass\n",
        "\n",
        "class Tree(ABC):\n",
        "    '''\n",
        "      base class for RegressionTree and ClassificationTree\n",
        "    '''\n",
        "    def __init__(self, n_min=10):\n",
        "        '''n_min: minimum required number of instances in leaf nodes\n",
        "        '''\n",
        "        self.n_min = n_min\n",
        "\n",
        "    def predict(self, X):\n",
        "        ''' return the predictions for the given feature matrix X\n",
        "        '''\n",
        "        if X.ndim == 1:\n",
        "            return self._predict_one(X)\n",
        "        else:\n",
        "            return np.array([self._predict_one(x) for x in X])\n",
        "\n",
        "    def _predict_one(self, x):\n",
        "        ''' return the prediction for a single 1-D feature vector x\n",
        "        '''\n",
        "        node = self.root\n",
        "        while not hasattr(node, \"prediction\"):\n",
        "            j = node.split_index\n",
        "            if x[j] <= node.threshold:\n",
        "                node = node.left\n",
        "            else:\n",
        "                node = node.right\n",
        "        return node.prediction\n",
        "\n",
        "    def train(self, features, responses, D_try=None):\n",
        "        '''\n",
        "        features: the feature matrix of the training set\n",
        "        response: the vector of responses\n",
        "        '''\n",
        "        N, D = features.shape\n",
        "        assert(responses.shape[0] == N)\n",
        "\n",
        "        if D_try is None:\n",
        "            D_try = int(np.sqrt(D)) # number of features to consider for each split decision\n",
        "\n",
        "        # initialize the root node\n",
        "        self.root = Node()\n",
        "        self.root.features  = features\n",
        "        self.root.responses = responses\n",
        "\n",
        "        # build the tree\n",
        "        stack = [self.root]\n",
        "        while len(stack):\n",
        "            node = stack.pop()\n",
        "            active_indices = self.select_active_indices(D, D_try)\n",
        "            left, right = self.make_split_node(node, active_indices)\n",
        "            if left is None: # no split found\n",
        "                self.make_leaf_node(node)\n",
        "            else:\n",
        "                stack.append(left)\n",
        "                stack.append(right)\n",
        "\n",
        "    def make_split_node(self, node, indices):\n",
        "        '''\n",
        "        node: the node to be split\n",
        "        indices: a numpy array of length 'D_try', containing the feature\n",
        "                         indices to be considered for the present split\n",
        "\n",
        "        return: None, None -- if no suitable split has been found, or\n",
        "                left, right -- the children of the split\n",
        "        '''\n",
        "        # all responses equal => no improvement possible by any split\n",
        "        if np.unique(node.responses).shape[0] == 1:\n",
        "            return None, None\n",
        "\n",
        "        # find best feature j_min (among 'indices') and best threshold t_min for the split\n",
        "        l_min = float('inf')  # upper bound for the loss, later the loss of the best split\n",
        "        j_min, t_min = None, None\n",
        "\n",
        "        for j in indices:\n",
        "            thresholds = self.find_thresholds(node, j)\n",
        "\n",
        "            # compute loss for each threshold\n",
        "            for t in thresholds:\n",
        "                loss = self.compute_loss_for_split(node, j, t)\n",
        "\n",
        "                # remember the best split so far\n",
        "                # (the condition is never True when loss = float('inf') )\n",
        "                if loss < l_min:\n",
        "                    l_min = loss\n",
        "                    j_min = j\n",
        "                    t_min = t\n",
        "\n",
        "        if j_min is None: # no split found\n",
        "            return None, None\n",
        "\n",
        "        # create children for the best split\n",
        "        left, right = self.make_children(node, j_min, t_min)\n",
        "\n",
        "        # turn the current 'node' into a split node\n",
        "        # (store children and split condition)\n",
        "        node.split_index = j_min\n",
        "        node.threshold = t_min\n",
        "        node.left = left\n",
        "        node.right = right\n",
        "\n",
        "        # return the children (to be placed on the stack)\n",
        "        return left, right\n",
        "\n",
        "    def select_active_indices(self, D, D_try):\n",
        "        ''' return a 1-D array with D_try randomly selected indices from 0...(D-1).\n",
        "        '''\n",
        "        return np.random.choice(D, D_try, replace=False)\n",
        "\n",
        "    def find_thresholds(self, node, j):\n",
        "        ''' return: a 1-D array with all possible thresholds along feature j\n",
        "        '''\n",
        "        feature_values = node.features[:, j]\n",
        "        unique_values = np.unique(feature_values)\n",
        "        thresholds = (unique_values[:-1] + unique_values[1:]) / 2\n",
        "        return thresholds\n",
        "\n",
        "    def make_children(self, node, j, t):\n",
        "        ''' execute the split in feature j at threshold t\n",
        "\n",
        "            return: left, right -- the children of the split, with features and responses\n",
        "                                   properly assigned according to the split\n",
        "        '''\n",
        "        left = Node()\n",
        "        right = Node()\n",
        "\n",
        "        mask_left = node.features[:, j] <= t\n",
        "        mask_right = ~mask_left\n",
        "\n",
        "        left.features = node.features[mask_left]\n",
        "        left.responses = node.responses[mask_left]\n",
        "\n",
        "        right.features = node.features[mask_right]\n",
        "        right.responses = node.responses[mask_right]\n",
        "\n",
        "        return left, right\n",
        "\n",
        "    @abstractmethod\n",
        "    def make_leaf_node(self, node):\n",
        "        ''' Turn node into a leaf by computing and setting `node.prediction`\n",
        "\n",
        "            (must be implemented in a subclass)\n",
        "        '''\n",
        "        raise NotImplementedError(\"make_leaf_node() must be implemented in a subclass.\")\n",
        "\n",
        "    @abstractmethod\n",
        "    def compute_loss_for_split(self, node, j, t):\n",
        "        ''' Return the resulting loss when the data are split along feature j at threshold t.\n",
        "            If the split is not admissible, return float('inf').\n",
        "\n",
        "            (must be implemented in a subclass)\n",
        "        '''\n",
        "        raise NotImplementedError(\"compute_loss_for_split() must be implemented in a subclass.\")\n"
      ]
    },
    {
      "cell_type": "markdown",
      "id": "3e628ada-993c-44a2-9a50-15237f6bd172",
      "metadata": {
        "id": "3e628ada-993c-44a2-9a50-15237f6bd172"
      },
      "source": [
        "# Regression Tree"
      ]
    },
    {
      "cell_type": "code",
      "execution_count": 3,
      "id": "880bbafa-9ea3-4d3e-8ee1-20a6cea98a5d",
      "metadata": {
        "id": "880bbafa-9ea3-4d3e-8ee1-20a6cea98a5d"
      },
      "outputs": [],
      "source": [
        "class RegressionTree(Tree, BaseEstimator, RegressorMixin):\n",
        "    def __init__(self, n_min=10):\n",
        "        super(RegressionTree, self).__init__(n_min)\n",
        "\n",
        "    def compute_loss_for_split(self, node, j, t):\n",
        "        mask_left = node.features[:, j] <= t\n",
        "        mask_right = ~mask_left\n",
        "\n",
        "        if np.sum(mask_left) < self.n_min or np.sum(mask_right) < self.n_min:\n",
        "            return float('inf')\n",
        "\n",
        "        left_responses = node.responses[mask_left]\n",
        "        right_responses = node.responses[mask_right]\n",
        "\n",
        "        loss_left = np.var(left_responses) * len(left_responses)\n",
        "        loss_right = np.var(right_responses) * len(right_responses)\n",
        "\n",
        "        return loss_left + loss_right\n",
        "\n",
        "    def make_leaf_node(self, node):\n",
        "        node.prediction = np.mean(node.responses)\n",
        "\n",
        "    def fit(self, X, y):\n",
        "        self.train(X, y)\n",
        "        return self"
      ]
    },
    {
      "cell_type": "markdown",
      "id": "970edc74-5e48-4d59-b527-91da2d0a32d5",
      "metadata": {
        "id": "970edc74-5e48-4d59-b527-91da2d0a32d5"
      },
      "source": [
        "# Classification Tree"
      ]
    },
    {
      "cell_type": "code",
      "execution_count": 4,
      "id": "b8ebb626-c16e-4dfb-9d98-878e642027d4",
      "metadata": {
        "id": "b8ebb626-c16e-4dfb-9d98-878e642027d4"
      },
      "outputs": [],
      "source": [
        "class ClassificationTree(Tree, BaseEstimator, ClassifierMixin):\n",
        "    '''implement classification tree so that it can handle arbitrary many classes\n",
        "    '''\n",
        "\n",
        "    def __init__(self, classes, n_min=10):\n",
        "        ''' classes: a 1-D array with the permitted class labels\n",
        "            n_min: minimum required number of instances in leaf nodes\n",
        "        '''\n",
        "        super(ClassificationTree, self).__init__(n_min)\n",
        "        self.classes = classes\n",
        "\n",
        "    def compute_loss_for_split(self, node, j, t):\n",
        "        mask_left = node.features[:, j] <= t\n",
        "        mask_right = ~mask_left\n",
        "\n",
        "        if np.sum(mask_left) < self.n_min or np.sum(mask_right) < self.n_min:\n",
        "            return float('inf')\n",
        "\n",
        "        left_responses = node.responses[mask_left]\n",
        "        right_responses = node.responses[mask_right]\n",
        "\n",
        "        loss_left = self.gini_impurity(left_responses) * len(left_responses)\n",
        "        loss_right = self.gini_impurity(right_responses) * len(right_responses)\n",
        "\n",
        "        return loss_left + loss_right\n",
        "\n",
        "    def gini_impurity(self, responses):\n",
        "        counts = np.array(list(Counter(responses).values()))\n",
        "        probabilities = counts / len(responses)\n",
        "        return 1.0 - np.sum(probabilities ** 2)\n",
        "\n",
        "    def make_leaf_node(self, node):\n",
        "        counts = Counter(node.responses)\n",
        "        node.prediction = max(counts, key=counts.get)\n",
        "\n",
        "    def fit(self, X, y):\n",
        "        self.train(X, y)\n",
        "        self.classes_ = np.unique(y)\n",
        "        return self"
      ]
    },
    {
      "cell_type": "markdown",
      "id": "169fbc30-00eb-4555-96c7-801af34cfce1",
      "metadata": {
        "id": "169fbc30-00eb-4555-96c7-801af34cfce1"
      },
      "source": [
        "# Evaluation of Regression and Classification Tree"
      ]
    },
    {
      "cell_type": "code",
      "execution_count": 5,
      "id": "b9e9ad1c-dcae-4c2b-b275-222afb9009c5",
      "metadata": {
        "colab": {
          "base_uri": "https://localhost:8080/"
        },
        "id": "b9e9ad1c-dcae-4c2b-b275-222afb9009c5",
        "outputId": "03e57fd4-a38c-46d6-eb6b-93d4daf6e5a6"
      },
      "outputs": [
        {
          "output_type": "stream",
          "name": "stdout",
          "text": [
            "(1797, 64) (1797,)\n",
            "RegressionTree MSE: 0.3626839167935058\n",
            "ClassificationTree Accuracy: 0.903386605783866\n"
          ]
        }
      ],
      "source": [
        "# Load and prepare the digits data and extract 3s and 9s\n",
        "digits = load_digits()\n",
        "print(digits.data.shape, digits.target.shape)\n",
        "\n",
        "instances = (digits.target == 3) | (digits.target == 9)\n",
        "features = digits.data[instances, :]\n",
        "labels = digits.target[instances]\n",
        "\n",
        "# For regression, we use labels +1 and -1\n",
        "responses = np.array([1 if l == 3 else -1 for l in labels])\n",
        "\n",
        "assert(features.shape[0] == labels.shape[0] == responses.shape[0])\n",
        "\n",
        "# Perform 5-fold cross-validation with responses +1 and -1 (for 3s and 9s) using RegressionTree()\n",
        "regression_tree = RegressionTree(n_min=2)\n",
        "kf = KFold(n_splits=5, shuffle=True, random_state=1)\n",
        "\n",
        "regression_scores = cross_val_score(regression_tree, features, responses, cv=kf, scoring='neg_mean_squared_error')\n",
        "print(f\"RegressionTree MSE: {-np.mean(regression_scores)}\")\n",
        "\n",
        "# Perform 5-fold cross-validation with labels 3 and 9 using ClassificationTree\n",
        "classification_tree = ClassificationTree(classes=np.unique(labels), n_min=2)\n",
        "classification_scores = cross_val_score(classification_tree, features, labels, cv=kf, scoring='accuracy')\n",
        "print(f\"ClassificationTree Accuracy: {np.mean(classification_scores)}\")"
      ]
    },
    {
      "cell_type": "markdown",
      "id": "e1a135e0-94da-4ce5-ba76-56e3418de258",
      "metadata": {
        "id": "e1a135e0-94da-4ce5-ba76-56e3418de258"
      },
      "source": [
        "## Task 2"
      ]
    },
    {
      "cell_type": "markdown",
      "id": "103d16b5-0521-4025-a87f-82d4d4c378e7",
      "metadata": {
        "id": "103d16b5-0521-4025-a87f-82d4d4c378e7"
      },
      "source": [
        "# Regression and Classification Forest"
      ]
    },
    {
      "cell_type": "code",
      "execution_count": 6,
      "id": "5affcb45-d97d-4f2f-914f-209e204846db",
      "metadata": {
        "id": "5affcb45-d97d-4f2f-914f-209e204846db"
      },
      "outputs": [],
      "source": [
        "def bootstrap_sampling(X, y):\n",
        "    n_samples = X.shape[0]\n",
        "    indices = np.random.choice(n_samples, size=n_samples, replace=True)\n",
        "    return X[indices], y[indices]"
      ]
    },
    {
      "cell_type": "code",
      "execution_count": 7,
      "id": "7e1f1739-b86b-48cf-8b32-aa369152d54a",
      "metadata": {
        "tags": [],
        "id": "7e1f1739-b86b-48cf-8b32-aa369152d54a"
      },
      "outputs": [],
      "source": [
        "class RegressionForest(BaseEstimator, RegressorMixin):\n",
        "    def __init__(self, n_trees=100):\n",
        "        self.n_trees = n_trees\n",
        "        self.trees = [RegressionTree() for _ in range(n_trees)]\n",
        "\n",
        "    def fit(self, X, y):\n",
        "        for tree in self.trees:\n",
        "            X_sample, y_sample = bootstrap_sampling(X, y)\n",
        "            tree.fit(X_sample, y_sample)\n",
        "\n",
        "    def predict(self, X):\n",
        "        predictions = np.array([tree.predict(X) for tree in self.trees])\n",
        "        return np.mean(predictions, axis=0)\n",
        "\n",
        "    def get_params(self, deep=True):\n",
        "        return {\"n_trees\": self.n_trees}\n",
        "\n",
        "    def set_params(self, **params):\n",
        "        for key, value in params.items():\n",
        "            setattr(self, key, value)\n",
        "        return self"
      ]
    },
    {
      "cell_type": "code",
      "execution_count": 8,
      "id": "1c9745f7-eec0-4930-a34a-2d3ba4a24670",
      "metadata": {
        "id": "1c9745f7-eec0-4930-a34a-2d3ba4a24670"
      },
      "outputs": [],
      "source": [
        "class ClassificationForest(BaseEstimator, ClassifierMixin):\n",
        "    def __init__(self, n_trees=100, classes=None):\n",
        "        self.n_trees = n_trees\n",
        "        self.classes = classes\n",
        "        self.trees = [ClassificationTree(classes=classes) for _ in range(n_trees)]\n",
        "\n",
        "    def fit(self, X, y):\n",
        "        self.classes_ = np.unique(y)\n",
        "        for tree in self.trees:\n",
        "            X_sample, y_sample = bootstrap_sampling(X, y)\n",
        "            tree.fit(X_sample, y_sample)\n",
        "\n",
        "    def predict(self, X):\n",
        "        predictions = np.array([tree.predict(X) for tree in self.trees])\n",
        "        return np.apply_along_axis(lambda x: np.bincount(x, minlength=len(self.classes)).argmax(), axis=0, arr=predictions)\n",
        "\n",
        "    def get_params(self, deep=True):\n",
        "        return {\"n_trees\": self.n_trees, \"classes\": self.classes}\n",
        "\n",
        "    def set_params(self, **params):\n",
        "        for key, value in params.items():\n",
        "            setattr(self, key, value)\n",
        "        return self"
      ]
    },
    {
      "cell_type": "markdown",
      "id": "c6cd1a25-e7b0-49eb-84b5-6784798fc82f",
      "metadata": {
        "id": "c6cd1a25-e7b0-49eb-84b5-6784798fc82f"
      },
      "source": [
        "#Task 3"
      ]
    },
    {
      "cell_type": "code",
      "execution_count": 9,
      "id": "d5181cb4-ce01-4350-8283-34cf9bb0741b",
      "metadata": {
        "id": "d5181cb4-ce01-4350-8283-34cf9bb0741b"
      },
      "outputs": [],
      "source": [
        "from sklearn.model_selection import cross_val_score, KFold\n",
        "from sklearn.datasets import load_digits\n",
        "from sklearn.metrics import confusion_matrix, accuracy_score\n",
        "import matplotlib.pyplot as plt\n",
        "import seaborn as sns"
      ]
    },
    {
      "cell_type": "code",
      "execution_count": 11,
      "id": "1f09551f-8391-4b29-b158-7adb8f95110c",
      "metadata": {
        "colab": {
          "base_uri": "https://localhost:8080/",
          "height": 676
        },
        "id": "1f09551f-8391-4b29-b158-7adb8f95110c",
        "outputId": "01ce6b28-de5d-43ac-ef08-3f6c4d242f93"
      },
      "outputs": [
        {
          "output_type": "stream",
          "name": "stdout",
          "text": [
            "Cross-validated accuracies: [0.96111111 0.95833333 0.93314763 0.9637883  0.95543175]\n",
            "Mean accuracy: 0.9543624264933458\n"
          ]
        },
        {
          "output_type": "display_data",
          "data": {
            "text/plain": [
              "<Figure size 1000x700 with 2 Axes>"
            ],
            "image/png": "[encoded data removed]"
          },
          "metadata": {}
        }
      ],
      "source": [
        "# Load the digits dataset\n",
        "digits = load_digits()\n",
        "X = digits.data\n",
        "y = digits.target\n",
        "\n",
        "# Get the unique classes of y\n",
        "classes = np.unique(y)\n",
        "\n",
        "# Initialize the forest\n",
        "classification_forest = ClassificationForest(n_trees=100, classes=classes)\n",
        "\n",
        "# Perform cross-validation\n",
        "kf = KFold(n_splits=5, shuffle=True, random_state=42)\n",
        "accuracies = cross_val_score(classification_forest, X, y, cv=kf, scoring='accuracy')\n",
        "\n",
        "print(f'Cross-validated accuracies: {accuracies}')\n",
        "print(f'Mean accuracy: {np.mean(accuracies)}')\n",
        "\n",
        "# Fit and predict for the confusion matrix\n",
        "classification_forest.fit(X, y)\n",
        "y_pred = classification_forest.predict(X)\n",
        "\n",
        "# Plot the confusion matrix\n",
        "cm = confusion_matrix(y, y_pred)\n",
        "plt.figure(figsize=(10, 7))\n",
        "sns.heatmap(cm, annot=True, fmt='d', cmap='Blues')\n",
        "plt.xlabel('Predicted')\n",
        "plt.ylabel('True')\n",
        "plt.title('Confusion Matrix')\n",
        "plt.show()\n"
      ]
    },
    {
      "cell_type": "markdown",
      "source": [
        "## **Comments :**\n",
        "The confusion matrix will show how well the model distinguishes between different digits.\n",
        "Accuracy should be high, typically above 80%, reflecting the robustness of the forest model in multi-class classification."
      ],
      "metadata": {
        "id": "Bb4LFdslrfde"
      },
      "id": "Bb4LFdslrfde"
    },
    {
      "cell_type": "markdown",
      "source": [
        "# Task 4"
      ],
      "metadata": {
        "id": "PR_EOJfKhaW6"
      },
      "id": "PR_EOJfKhaW6"
    },
    {
      "cell_type": "code",
      "source": [
        "from sklearn.base import BaseEstimator, ClassifierMixin\n",
        "\n",
        "class RegressionForestOneVsRest(BaseEstimator, ClassifierMixin):\n",
        "    def __init__(self, n_trees=100):\n",
        "        self.n_trees = n_trees\n",
        "        self.models = {}\n",
        "\n",
        "    def fit(self, X, y):\n",
        "        self.classes_ = np.unique(y)\n",
        "        for cls in self.classes_:\n",
        "            y_binary = np.where(y == cls, 1, 0)\n",
        "            model = RandomForestRegressor(n_estimators=self.n_trees)\n",
        "            model.fit(X, y_binary)\n",
        "            self.models[cls] = model\n",
        "        return self\n",
        "\n",
        "    def predict(self, X):\n",
        "        scores = {cls: model.predict(X) for cls, model in self.models.items()}\n",
        "        scores_matrix = np.vstack(list(scores.values())).T\n",
        "        max_scores = scores_matrix.max(axis=1)\n",
        "        max_indices = scores_matrix.argmax(axis=1)\n",
        "        y_pred = np.where(max_scores > 0, self.classes_[max_indices], -1)  # -1 indicates 'unknown'\n",
        "        return y_pred\n",
        "\n",
        "    def get_params(self, deep=True):\n",
        "        return {\"n_trees\": self.n_trees}\n",
        "\n",
        "    def set_params(self, **params):\n",
        "        for param, value in params.items():\n",
        "            setattr(self, param, value)\n",
        "        return self\n"
      ],
      "metadata": {
        "id": "JABnl8tthcsi"
      },
      "id": "JABnl8tthcsi",
      "execution_count": 20,
      "outputs": []
    },
    {
      "cell_type": "code",
      "source": [
        "from sklearn.model_selection import cross_val_score, KFold\n",
        "from sklearn.datasets import load_digits\n",
        "from sklearn.metrics import confusion_matrix, accuracy_score\n",
        "import matplotlib.pyplot as plt\n",
        "import seaborn as sns\n",
        "\n",
        "# Load the digits dataset\n",
        "digits = load_digits()\n",
        "X = digits.data\n",
        "y = digits.target\n",
        "\n",
        "# Initialize the one-vs-rest regression forest\n",
        "regression_forest = RegressionForestOneVsRest(n_trees=100)\n",
        "\n",
        "# Perform cross-validation\n",
        "kf = KFold(n_splits=5, shuffle=True, random_state=42)\n",
        "accuracies = cross_val_score(regression_forest, X, y, cv=kf, scoring='accuracy')\n",
        "\n",
        "print(f'Cross-validated accuracies: {accuracies}')\n",
        "print(f'Mean accuracy: {np.mean(accuracies)}')\n",
        "\n",
        "# Fit and predict for the confusion matrix\n",
        "regression_forest.fit(X, y)\n",
        "y_pred = regression_forest.predict(X)\n",
        "\n",
        "# Plot the confusion matrix\n",
        "cm = confusion_matrix(y, y_pred)\n",
        "plt.figure(figsize=(10, 7))\n",
        "sns.heatmap(cm, annot=True, fmt='d', cmap='Blues')\n",
        "plt.xlabel('Predicted')\n",
        "plt.ylabel('True')\n",
        "plt.title('Confusion Matrix')\n",
        "plt.show()\n"
      ],
      "metadata": {
        "colab": {
          "base_uri": "https://localhost:8080/",
          "height": 676
        },
        "id": "OkGShcgyiF_o",
        "outputId": "44d6c4b7-4ca3-4dd3-89d3-b3ea4fe928c1"
      },
      "id": "OkGShcgyiF_o",
      "execution_count": 15,
      "outputs": [
        {
          "output_type": "stream",
          "name": "stdout",
          "text": [
            "Cross-validated accuracies: [0.95833333 0.95833333 0.9275766  0.9637883  0.95264624]\n",
            "Mean accuracy: 0.9521355617455896\n"
          ]
        },
        {
          "output_type": "display_data",
          "data": {
            "text/plain": [
              "<Figure size 1000x700 with 2 Axes>"
            ],
            "image/png": "[encoded data removed]"
          },
          "metadata": {}
        }
      ]
    },
    {
      "cell_type": "markdown",
      "source": [
        "## **Comments :**\n",
        "The confusion matrix will highlight the performance of the one-against-the-rest approach for multi-class classification.\n",
        "Accuracy should be comparable to that of the classification forest, showing the effectiveness of using regression forests in this setting."
      ],
      "metadata": {
        "id": "hxVM2Xsgrkfq"
      },
      "id": "hxVM2Xsgrkfq"
    }
  ],
  "metadata": {
    "kernelspec": {
      "display_name": "Python 3 (ipykernel)",
      "language": "python",
      "name": "python3"
    },
    "language_info": {
      "codemirror_mode": {
        "name": "ipython",
        "version": 3
      },
      "file_extension": ".py",
      "mimetype": "text/x-python",
      "name": "python",
      "nbconvert_exporter": "python",
      "pygments_lexer": "ipython3",
      "version": "3.11.7"
    },
    "colab": {
      "provenance": []
    }
  },
  "nbformat": 4,
  "nbformat_minor": 5
}